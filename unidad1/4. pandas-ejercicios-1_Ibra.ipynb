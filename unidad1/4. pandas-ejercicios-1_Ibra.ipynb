{
 "cells": [
  {
   "cell_type": "markdown",
   "metadata": {
    "id": "c8-AdkVg1lxk"
   },
   "source": [
    "## Demo funciones pandas"
   ]
  },
  {
   "cell_type": "code",
   "execution_count": 3,
   "metadata": {
    "id": "x-Q6iYBt1lx4",
    "outputId": "9fab86e3-53fc-4514-9c19-65c976365ff9"
   },
   "outputs": [],
   "source": [
    "%matplotlib inline\n",
    "\n",
    "import pandas as pd"
   ]
  },
  {
   "cell_type": "code",
   "execution_count": 5,
   "metadata": {
    "id": "NDn1lvJw1lyD",
    "outputId": "9e02b85a-9963-4628-bd5a-64b20417ea3b"
   },
   "outputs": [
    {
     "data": {
      "text/plain": "                                   title  year\n0                                 Mahler  1974\n1           Ogon, voda i... mednye truby  1968\n2  Ana Nojoom bent alasherah wamotalagah  2014\n3                      Malu de Bicicleta  2010\n4             Nazareno Apostol: Boy Ahas  1989",
      "text/html": "<div>\n<style scoped>\n    .dataframe tbody tr th:only-of-type {\n        vertical-align: middle;\n    }\n\n    .dataframe tbody tr th {\n        vertical-align: top;\n    }\n\n    .dataframe thead th {\n        text-align: right;\n    }\n</style>\n<table border=\"1\" class=\"dataframe\">\n  <thead>\n    <tr style=\"text-align: right;\">\n      <th></th>\n      <th>title</th>\n      <th>year</th>\n    </tr>\n  </thead>\n  <tbody>\n    <tr>\n      <th>0</th>\n      <td>Mahler</td>\n      <td>1974</td>\n    </tr>\n    <tr>\n      <th>1</th>\n      <td>Ogon, voda i... mednye truby</td>\n      <td>1968</td>\n    </tr>\n    <tr>\n      <th>2</th>\n      <td>Ana Nojoom bent alasherah wamotalagah</td>\n      <td>2014</td>\n    </tr>\n    <tr>\n      <th>3</th>\n      <td>Malu de Bicicleta</td>\n      <td>2010</td>\n    </tr>\n    <tr>\n      <th>4</th>\n      <td>Nazareno Apostol: Boy Ahas</td>\n      <td>1989</td>\n    </tr>\n  </tbody>\n</table>\n</div>"
     },
     "execution_count": 5,
     "metadata": {},
     "output_type": "execute_result"
    }
   ],
   "source": [
    "titulos = pd.read_csv(\"/Users/mertatalay/Desktop/programacionII/data/titles.csv\")\n",
    "titulos.head()\n"
   ]
  },
  {
   "cell_type": "code",
   "execution_count": 6,
   "metadata": {
    "id": "VoU7_SLR1lyG",
    "outputId": "249209df-f24f-4915-da0b-264e0b1fc69e"
   },
   "outputs": [
    {
     "data": {
      "text/plain": "'1.5.1'"
     },
     "execution_count": 6,
     "metadata": {},
     "output_type": "execute_result"
    }
   ],
   "source": [
    "pd.__version__"
   ]
  },
  {
   "cell_type": "code",
   "execution_count": 7,
   "metadata": {
    "id": "Y-JKZIqS1lyH",
    "outputId": "2ab8ab12-832f-47f0-d81a-2724df135c09"
   },
   "outputs": [
    {
     "data": {
      "text/plain": "                  title  year      name   type                character     n\n0        Closet Monster  2015  Buffy #1  actor                  Buffy 4  31.0\n1       Suuri illusioni  1985    Homo $  actor                   Guests  22.0\n2   Battle of the Sexes  2017   $hutter  actor          Bobby Riggs Fan  10.0\n3  Secret in Their Eyes  2015   $hutter  actor          2002 Dodger Fan   NaN\n4            Steve Jobs  2015   $hutter  actor  1988 Opera House Patron   NaN",
      "text/html": "<div>\n<style scoped>\n    .dataframe tbody tr th:only-of-type {\n        vertical-align: middle;\n    }\n\n    .dataframe tbody tr th {\n        vertical-align: top;\n    }\n\n    .dataframe thead th {\n        text-align: right;\n    }\n</style>\n<table border=\"1\" class=\"dataframe\">\n  <thead>\n    <tr style=\"text-align: right;\">\n      <th></th>\n      <th>title</th>\n      <th>year</th>\n      <th>name</th>\n      <th>type</th>\n      <th>character</th>\n      <th>n</th>\n    </tr>\n  </thead>\n  <tbody>\n    <tr>\n      <th>0</th>\n      <td>Closet Monster</td>\n      <td>2015</td>\n      <td>Buffy #1</td>\n      <td>actor</td>\n      <td>Buffy 4</td>\n      <td>31.0</td>\n    </tr>\n    <tr>\n      <th>1</th>\n      <td>Suuri illusioni</td>\n      <td>1985</td>\n      <td>Homo $</td>\n      <td>actor</td>\n      <td>Guests</td>\n      <td>22.0</td>\n    </tr>\n    <tr>\n      <th>2</th>\n      <td>Battle of the Sexes</td>\n      <td>2017</td>\n      <td>$hutter</td>\n      <td>actor</td>\n      <td>Bobby Riggs Fan</td>\n      <td>10.0</td>\n    </tr>\n    <tr>\n      <th>3</th>\n      <td>Secret in Their Eyes</td>\n      <td>2015</td>\n      <td>$hutter</td>\n      <td>actor</td>\n      <td>2002 Dodger Fan</td>\n      <td>NaN</td>\n    </tr>\n    <tr>\n      <th>4</th>\n      <td>Steve Jobs</td>\n      <td>2015</td>\n      <td>$hutter</td>\n      <td>actor</td>\n      <td>1988 Opera House Patron</td>\n      <td>NaN</td>\n    </tr>\n  </tbody>\n</table>\n</div>"
     },
     "execution_count": 7,
     "metadata": {},
     "output_type": "execute_result"
    }
   ],
   "source": [
    "elenco = pd.read_csv(\"/Users/mertatalay/Desktop/programacionII/data/cast.csv\", encoding='utf-8')\n",
    "elenco.head()"
   ]
  },
  {
   "cell_type": "code",
   "execution_count": 8,
   "metadata": {
    "id": "r6JGRp7u1lyJ",
    "outputId": "f5a328a1-e013-4d1c-86ca-1b4d3c7b87f6"
   },
   "outputs": [
    {
     "data": {
      "text/plain": "230407"
     },
     "execution_count": 8,
     "metadata": {},
     "output_type": "execute_result"
    }
   ],
   "source": [
    "len(titulos)"
   ]
  },
  {
   "cell_type": "code",
   "execution_count": 9,
   "metadata": {
    "collapsed": true,
    "id": "TmG2KRbk1lyO",
    "outputId": "a0a96175-e6c3-43ac-865f-ce81b3c793ad"
   },
   "outputs": [
    {
     "data": {
      "text/plain": "                        title  year\n138290       #1 Serial Killer  2013\n225138                     #5  2013\n193379             #50Fathers  2015\n152808                    #66  2015\n63425   #73, Shaanthi Nivaasa  2007",
      "text/html": "<div>\n<style scoped>\n    .dataframe tbody tr th:only-of-type {\n        vertical-align: middle;\n    }\n\n    .dataframe tbody tr th {\n        vertical-align: top;\n    }\n\n    .dataframe thead th {\n        text-align: right;\n    }\n</style>\n<table border=\"1\" class=\"dataframe\">\n  <thead>\n    <tr style=\"text-align: right;\">\n      <th></th>\n      <th>title</th>\n      <th>year</th>\n    </tr>\n  </thead>\n  <tbody>\n    <tr>\n      <th>138290</th>\n      <td>#1 Serial Killer</td>\n      <td>2013</td>\n    </tr>\n    <tr>\n      <th>225138</th>\n      <td>#5</td>\n      <td>2013</td>\n    </tr>\n    <tr>\n      <th>193379</th>\n      <td>#50Fathers</td>\n      <td>2015</td>\n    </tr>\n    <tr>\n      <th>152808</th>\n      <td>#66</td>\n      <td>2015</td>\n    </tr>\n    <tr>\n      <th>63425</th>\n      <td>#73, Shaanthi Nivaasa</td>\n      <td>2007</td>\n    </tr>\n  </tbody>\n</table>\n</div>"
     },
     "execution_count": 9,
     "metadata": {},
     "output_type": "execute_result"
    }
   ],
   "source": [
    "titulos.sort_values('title').head()"
   ]
  },
  {
   "cell_type": "code",
   "execution_count": 7,
   "metadata": {
    "id": "BXblZ6i_1lyW",
    "outputId": "abed31b5-37a9-417f-8090-1503ee216e79"
   },
   "outputs": [
    {
     "data": {
      "text/plain": [
       "0"
      ]
     },
     "execution_count": 7,
     "metadata": {},
     "output_type": "execute_result"
    }
   ],
   "source": [
    "len( titulos[titulos.title == \"Matrix\"] )\n"
   ]
  },
  {
   "cell_type": "code",
   "execution_count": 8,
   "metadata": {
    "id": "xgs4gT2P1lyY",
    "outputId": "ef86fc2c-abbd-471a-e003-89068c8af646"
   },
   "outputs": [
    {
     "data": {
      "text/plain": [
       "Hamlet          19\n",
       "Carmen          16\n",
       "Macbeth         15\n",
       "Maya            11\n",
       "The Outsider    11\n",
       "Name: title, dtype: int64"
      ]
     },
     "execution_count": 8,
     "metadata": {},
     "output_type": "execute_result"
    }
   ],
   "source": [
    "titulos.title.value_counts().head(5)"
   ]
  },
  {
   "cell_type": "code",
   "execution_count": 9,
   "metadata": {
    "id": "DiYaoBkz1lyb",
    "outputId": "1359e05b-66ba-4f99-d353-e5649f74a45f"
   },
   "outputs": [
    {
     "data": {
      "text/html": [
       "<div>\n",
       "<style scoped>\n",
       "    .dataframe tbody tr th:only-of-type {\n",
       "        vertical-align: middle;\n",
       "    }\n",
       "\n",
       "    .dataframe tbody tr th {\n",
       "        vertical-align: top;\n",
       "    }\n",
       "\n",
       "    .dataframe thead th {\n",
       "        text-align: right;\n",
       "    }\n",
       "</style>\n",
       "<table border=\"1\" class=\"dataframe\">\n",
       "  <thead>\n",
       "    <tr style=\"text-align: right;\">\n",
       "      <th></th>\n",
       "      <th>title</th>\n",
       "      <th>year</th>\n",
       "    </tr>\n",
       "  </thead>\n",
       "  <tbody>\n",
       "    <tr>\n",
       "      <th>94156</th>\n",
       "      <td>Dracula</td>\n",
       "      <td>1931</td>\n",
       "    </tr>\n",
       "    <tr>\n",
       "      <th>35229</th>\n",
       "      <td>Dracula</td>\n",
       "      <td>1958</td>\n",
       "    </tr>\n",
       "    <tr>\n",
       "      <th>184003</th>\n",
       "      <td>Dracula</td>\n",
       "      <td>1979</td>\n",
       "    </tr>\n",
       "  </tbody>\n",
       "</table>\n",
       "</div>"
      ],
      "text/plain": [
       "          title  year\n",
       "94156   Dracula  1931\n",
       "35229   Dracula  1958\n",
       "184003  Dracula  1979"
      ]
     },
     "execution_count": 9,
     "metadata": {},
     "output_type": "execute_result"
    }
   ],
   "source": [
    "titulos[titulos.title == \"Dracula\"].sort_values('year').head(3)"
   ]
  },
  {
   "cell_type": "code",
   "execution_count": 10,
   "metadata": {
    "id": "2fCMYVKM1lyc",
    "outputId": "0f2beb4c-2c04-40a6-a851-ee7be41a4348"
   },
   "outputs": [
    {
     "data": {
      "text/html": [
       "<div>\n",
       "<style scoped>\n",
       "    .dataframe tbody tr th:only-of-type {\n",
       "        vertical-align: middle;\n",
       "    }\n",
       "\n",
       "    .dataframe tbody tr th {\n",
       "        vertical-align: top;\n",
       "    }\n",
       "\n",
       "    .dataframe thead th {\n",
       "        text-align: right;\n",
       "    }\n",
       "</style>\n",
       "<table border=\"1\" class=\"dataframe\">\n",
       "  <thead>\n",
       "    <tr style=\"text-align: right;\">\n",
       "      <th></th>\n",
       "      <th>title</th>\n",
       "      <th>year</th>\n",
       "    </tr>\n",
       "  </thead>\n",
       "  <tbody>\n",
       "    <tr>\n",
       "      <th>124702</th>\n",
       "      <td>Romeo and Juliet</td>\n",
       "      <td>1916</td>\n",
       "    </tr>\n",
       "    <tr>\n",
       "      <th>147098</th>\n",
       "      <td>Romeo and Juliet (II)</td>\n",
       "      <td>1916</td>\n",
       "    </tr>\n",
       "    <tr>\n",
       "      <th>98409</th>\n",
       "      <td>Giulietta e Romeo</td>\n",
       "      <td>1918</td>\n",
       "    </tr>\n",
       "    <tr>\n",
       "      <th>192667</th>\n",
       "      <td>Romeo und Julia im Schnee</td>\n",
       "      <td>1920</td>\n",
       "    </tr>\n",
       "    <tr>\n",
       "      <th>112536</th>\n",
       "      <td>A Ridin' Romeo</td>\n",
       "      <td>1921</td>\n",
       "    </tr>\n",
       "    <tr>\n",
       "      <th>...</th>\n",
       "      <td>...</td>\n",
       "      <td>...</td>\n",
       "    </tr>\n",
       "    <tr>\n",
       "      <th>10288</th>\n",
       "      <td>Jou Romeo</td>\n",
       "      <td>2016</td>\n",
       "    </tr>\n",
       "    <tr>\n",
       "      <th>80514</th>\n",
       "      <td>Romeo &amp; Juliet</td>\n",
       "      <td>2016</td>\n",
       "    </tr>\n",
       "    <tr>\n",
       "      <th>171547</th>\n",
       "      <td>Romeo and Juliet Vs Suicide</td>\n",
       "      <td>2017</td>\n",
       "    </tr>\n",
       "    <tr>\n",
       "      <th>70721</th>\n",
       "      <td>Romeo &amp; Juliet</td>\n",
       "      <td>2017</td>\n",
       "    </tr>\n",
       "    <tr>\n",
       "      <th>190136</th>\n",
       "      <td>Romeo Killed Juliet</td>\n",
       "      <td>2018</td>\n",
       "    </tr>\n",
       "  </tbody>\n",
       "</table>\n",
       "<p>97 rows × 2 columns</p>\n",
       "</div>"
      ],
      "text/plain": [
       "                              title  year\n",
       "124702             Romeo and Juliet  1916\n",
       "147098        Romeo and Juliet (II)  1916\n",
       "98409             Giulietta e Romeo  1918\n",
       "192667    Romeo und Julia im Schnee  1920\n",
       "112536               A Ridin' Romeo  1921\n",
       "...                             ...   ...\n",
       "10288                     Jou Romeo  2016\n",
       "80514                Romeo & Juliet  2016\n",
       "171547  Romeo and Juliet Vs Suicide  2017\n",
       "70721                Romeo & Juliet  2017\n",
       "190136          Romeo Killed Juliet  2018\n",
       "\n",
       "[97 rows x 2 columns]"
      ]
     },
     "execution_count": 10,
     "metadata": {},
     "output_type": "execute_result"
    }
   ],
   "source": [
    "titulos[titulos.title.str.contains(\"Romeo\")].sort_values('year')"
   ]
  },
  {
   "cell_type": "code",
   "execution_count": 11,
   "metadata": {
    "id": "5l61bKSi1lyd",
    "outputId": "8971dd45-3b06-401f-ea1f-9241b1109331"
   },
   "outputs": [
    {
     "data": {
      "text/plain": [
       "1488"
      ]
     },
     "execution_count": 11,
     "metadata": {},
     "output_type": "execute_result"
    }
   ],
   "source": [
    "len( titulos[titulos.year == 1960] )"
   ]
  },
  {
   "cell_type": "code",
   "execution_count": 12,
   "metadata": {
    "id": "zKm2aHRn1lyf",
    "outputId": "c704df90-ee5e-439e-a451-733b0c4500b1"
   },
   "outputs": [
    {
     "data": {
      "text/plain": [
       "1773"
      ]
     },
     "execution_count": 12,
     "metadata": {},
     "output_type": "execute_result"
    }
   ],
   "source": [
    "len( titulos[titulos.year == 1980] )"
   ]
  },
  {
   "cell_type": "code",
   "execution_count": 13,
   "metadata": {
    "id": "8ORxk_Pt1lyj",
    "outputId": "47442334-893a-4ab7-9e49-e01be6fc1874"
   },
   "outputs": [
    {
     "data": {
      "text/plain": [
       "17348"
      ]
     },
     "execution_count": 13,
     "metadata": {},
     "output_type": "execute_result"
    }
   ],
   "source": [
    "len( titulos[ (titulos.year >= 1960) & (titulos.year <= 1969) ] )"
   ]
  },
  {
   "cell_type": "code",
   "execution_count": 20,
   "metadata": {
    "id": "S96HuVlj1lyl",
    "outputId": "bc6b7d3d-49b1-4074-869c-4357e9e20a98"
   },
   "outputs": [
    {
     "data": {
      "text/plain": [
       "38496"
      ]
     },
     "execution_count": 20,
     "metadata": {},
     "output_type": "execute_result"
    }
   ],
   "source": [
    "len( titulos[ titulos.year // 10 == 200] )"
   ]
  },
  {
   "cell_type": "code",
   "execution_count": 21,
   "metadata": {
    "id": "qih7hMIW1lym",
    "outputId": "b343ff6f-48b8-4ab5-d545-9b742cb4c41d"
   },
   "outputs": [
    {
     "data": {
      "text/html": [
       "<div>\n",
       "<style scoped>\n",
       "    .dataframe tbody tr th:only-of-type {\n",
       "        vertical-align: middle;\n",
       "    }\n",
       "\n",
       "    .dataframe tbody tr th {\n",
       "        vertical-align: top;\n",
       "    }\n",
       "\n",
       "    .dataframe thead th {\n",
       "        text-align: right;\n",
       "    }\n",
       "</style>\n",
       "<table border=\"1\" class=\"dataframe\">\n",
       "  <thead>\n",
       "    <tr style=\"text-align: right;\">\n",
       "      <th></th>\n",
       "      <th>title</th>\n",
       "      <th>year</th>\n",
       "    </tr>\n",
       "  </thead>\n",
       "  <tbody>\n",
       "    <tr>\n",
       "      <th>768</th>\n",
       "      <td>Godzilla</td>\n",
       "      <td>1977</td>\n",
       "    </tr>\n",
       "    <tr>\n",
       "      <th>98814</th>\n",
       "      <td>Godzilla</td>\n",
       "      <td>2014</td>\n",
       "    </tr>\n",
       "    <tr>\n",
       "      <th>110864</th>\n",
       "      <td>Godzilla</td>\n",
       "      <td>2017</td>\n",
       "    </tr>\n",
       "    <tr>\n",
       "      <th>224749</th>\n",
       "      <td>Godzilla</td>\n",
       "      <td>1998</td>\n",
       "    </tr>\n",
       "  </tbody>\n",
       "</table>\n",
       "</div>"
      ],
      "text/plain": [
       "           title  year\n",
       "768     Godzilla  1977\n",
       "98814   Godzilla  2014\n",
       "110864  Godzilla  2017\n",
       "224749  Godzilla  1998"
      ]
     },
     "execution_count": 21,
     "metadata": {},
     "output_type": "execute_result"
    }
   ],
   "source": [
    "titulos[ titulos.title == \"Godzilla\"]"
   ]
  },
  {
   "cell_type": "code",
   "execution_count": 22,
   "metadata": {
    "id": "dJiMAsKL1lyo",
    "outputId": "a0c566ba-1abf-4ca8-8b4c-67928aa25217"
   },
   "outputs": [
    {
     "data": {
      "text/plain": [
       "120"
      ]
     },
     "execution_count": 22,
     "metadata": {},
     "output_type": "execute_result"
    }
   ],
   "source": [
    "len( elenco[elenco.title == \"Batman\"] )"
   ]
  },
  {
   "cell_type": "code",
   "execution_count": 23,
   "metadata": {
    "id": "295dUldx1lyq",
    "outputId": "4e31617b-6409-4863-b462-49005d2f1082"
   },
   "outputs": [
    {
     "data": {
      "text/plain": [
       "126"
      ]
     },
     "execution_count": 23,
     "metadata": {},
     "output_type": "execute_result"
    }
   ],
   "source": [
    "c = elenco[elenco.title == \"Godzilla\"]\n",
    "c = c[c.n.isnull()]\n",
    "len( c )"
   ]
  },
  {
   "cell_type": "code",
   "execution_count": null,
   "metadata": {
    "id": "LuK7JWPN1lyr",
    "outputId": "1b8a44c1-66b5-4e7d-9cac-468ce8f50bc3"
   },
   "outputs": [
    {
     "data": {
      "text/plain": [
       "34"
      ]
     },
     "execution_count": 18,
     "metadata": {},
     "output_type": "execute_result"
    }
   ],
   "source": [
    "# Cuantos papeles en la pelicula \"The Godfather\" si estuvieron clasificados con un valor \"n\"\n",
    "c = elenco[elenco.title == \"The Godfather\"]\n",
    "c = c[c.n.notnull()]\n",
    "len(c)"
   ]
  },
  {
   "cell_type": "code",
   "execution_count": 24,
   "metadata": {
    "id": "DI45L5vk1lyt",
    "outputId": "5c15d54e-7fd2-43d5-b7d8-97cba32b1b7d"
   },
   "outputs": [
    {
     "data": {
      "text/html": [
       "<div>\n",
       "<style scoped>\n",
       "    .dataframe tbody tr th:only-of-type {\n",
       "        vertical-align: middle;\n",
       "    }\n",
       "\n",
       "    .dataframe tbody tr th {\n",
       "        vertical-align: top;\n",
       "    }\n",
       "\n",
       "    .dataframe thead th {\n",
       "        text-align: right;\n",
       "    }\n",
       "</style>\n",
       "<table border=\"1\" class=\"dataframe\">\n",
       "  <thead>\n",
       "    <tr style=\"text-align: right;\">\n",
       "      <th></th>\n",
       "      <th>title</th>\n",
       "      <th>year</th>\n",
       "      <th>name</th>\n",
       "      <th>type</th>\n",
       "      <th>character</th>\n",
       "      <th>n</th>\n",
       "    </tr>\n",
       "  </thead>\n",
       "  <tbody>\n",
       "    <tr>\n",
       "      <th>553465</th>\n",
       "      <td>Romeo</td>\n",
       "      <td>2011</td>\n",
       "      <td>Dev (V)</td>\n",
       "      <td>actor</td>\n",
       "      <td>Siddhartha Roy (Siddhu)</td>\n",
       "      <td>1.0</td>\n",
       "    </tr>\n",
       "    <tr>\n",
       "      <th>756276</th>\n",
       "      <td>Romeo</td>\n",
       "      <td>2012</td>\n",
       "      <td>Ganesh (XII)</td>\n",
       "      <td>actor</td>\n",
       "      <td>Ganesh</td>\n",
       "      <td>1.0</td>\n",
       "    </tr>\n",
       "    <tr>\n",
       "      <th>3473481</th>\n",
       "      <td>Romeo</td>\n",
       "      <td>1990</td>\n",
       "      <td>Monique van de Ven</td>\n",
       "      <td>actress</td>\n",
       "      <td>Anne Herden</td>\n",
       "      <td>1.0</td>\n",
       "    </tr>\n",
       "    <tr>\n",
       "      <th>2770608</th>\n",
       "      <td>Romeo</td>\n",
       "      <td>2011</td>\n",
       "      <td>Subhasree Ganguly</td>\n",
       "      <td>actress</td>\n",
       "      <td>Pooja Chatterjee</td>\n",
       "      <td>2.0</td>\n",
       "    </tr>\n",
       "    <tr>\n",
       "      <th>2502342</th>\n",
       "      <td>Romeo</td>\n",
       "      <td>2012</td>\n",
       "      <td>Bhavana (II)</td>\n",
       "      <td>actress</td>\n",
       "      <td>Shruthi</td>\n",
       "      <td>2.0</td>\n",
       "    </tr>\n",
       "    <tr>\n",
       "      <th>1267959</th>\n",
       "      <td>Romeo</td>\n",
       "      <td>1990</td>\n",
       "      <td>Johan Leysen</td>\n",
       "      <td>actor</td>\n",
       "      <td>Matthijs</td>\n",
       "      <td>2.0</td>\n",
       "    </tr>\n",
       "    <tr>\n",
       "      <th>96846</th>\n",
       "      <td>Romeo</td>\n",
       "      <td>2012</td>\n",
       "      <td>Avinash</td>\n",
       "      <td>actor</td>\n",
       "      <td>Shruthi's Father</td>\n",
       "      <td>3.0</td>\n",
       "    </tr>\n",
       "    <tr>\n",
       "      <th>362580</th>\n",
       "      <td>Romeo</td>\n",
       "      <td>2011</td>\n",
       "      <td>Sabyasachi Chakraborty</td>\n",
       "      <td>actor</td>\n",
       "      <td>Aviraj Roy</td>\n",
       "      <td>3.0</td>\n",
       "    </tr>\n",
       "    <tr>\n",
       "      <th>2515837</th>\n",
       "      <td>Romeo</td>\n",
       "      <td>1990</td>\n",
       "      <td>Ottolien Boeschoten</td>\n",
       "      <td>actress</td>\n",
       "      <td>Nel</td>\n",
       "      <td>3.0</td>\n",
       "    </tr>\n",
       "    <tr>\n",
       "      <th>218582</th>\n",
       "      <td>Romeo</td>\n",
       "      <td>1990</td>\n",
       "      <td>Peter Bolhuis</td>\n",
       "      <td>actor</td>\n",
       "      <td>Chiel</td>\n",
       "      <td>4.0</td>\n",
       "    </tr>\n",
       "    <tr>\n",
       "      <th>2487862</th>\n",
       "      <td>Romeo</td>\n",
       "      <td>2012</td>\n",
       "      <td>Sudha Belawadi</td>\n",
       "      <td>actress</td>\n",
       "      <td>Ganesh's Mother</td>\n",
       "      <td>4.0</td>\n",
       "    </tr>\n",
       "    <tr>\n",
       "      <th>471511</th>\n",
       "      <td>Romeo</td>\n",
       "      <td>1990</td>\n",
       "      <td>Hans Croiset</td>\n",
       "      <td>actor</td>\n",
       "      <td>Dokter</td>\n",
       "      <td>5.0</td>\n",
       "    </tr>\n",
       "    <tr>\n",
       "      <th>1773273</th>\n",
       "      <td>Romeo</td>\n",
       "      <td>2012</td>\n",
       "      <td>Rangayana Raghu</td>\n",
       "      <td>actor</td>\n",
       "      <td>Ganesh's Father</td>\n",
       "      <td>5.0</td>\n",
       "    </tr>\n",
       "    <tr>\n",
       "      <th>529324</th>\n",
       "      <td>Romeo</td>\n",
       "      <td>1990</td>\n",
       "      <td>Peter De Wijn</td>\n",
       "      <td>actor</td>\n",
       "      <td>Verhoeven</td>\n",
       "      <td>6.0</td>\n",
       "    </tr>\n",
       "    <tr>\n",
       "      <th>3446036</th>\n",
       "      <td>Romeo</td>\n",
       "      <td>1990</td>\n",
       "      <td>Coby Timp</td>\n",
       "      <td>actress</td>\n",
       "      <td>Moeder</td>\n",
       "      <td>7.0</td>\n",
       "    </tr>\n",
       "    <tr>\n",
       "      <th>2219144</th>\n",
       "      <td>Romeo</td>\n",
       "      <td>1990</td>\n",
       "      <td>Bob van den Berg</td>\n",
       "      <td>actor</td>\n",
       "      <td>Vader</td>\n",
       "      <td>8.0</td>\n",
       "    </tr>\n",
       "    <tr>\n",
       "      <th>2983000</th>\n",
       "      <td>Romeo</td>\n",
       "      <td>1990</td>\n",
       "      <td>Pim Lambeau</td>\n",
       "      <td>actress</td>\n",
       "      <td>Dame met hondje</td>\n",
       "      <td>9.0</td>\n",
       "    </tr>\n",
       "    <tr>\n",
       "      <th>2793582</th>\n",
       "      <td>Romeo</td>\n",
       "      <td>1990</td>\n",
       "      <td>Mouna Goeman Borgesius</td>\n",
       "      <td>actress</td>\n",
       "      <td>Verpleegster</td>\n",
       "      <td>10.0</td>\n",
       "    </tr>\n",
       "    <tr>\n",
       "      <th>847671</th>\n",
       "      <td>Romeo</td>\n",
       "      <td>1990</td>\n",
       "      <td>Theo de Groot</td>\n",
       "      <td>actor</td>\n",
       "      <td>Co-assistent</td>\n",
       "      <td>11.0</td>\n",
       "    </tr>\n",
       "    <tr>\n",
       "      <th>2511769</th>\n",
       "      <td>Romeo</td>\n",
       "      <td>1990</td>\n",
       "      <td>Nettie Blanken</td>\n",
       "      <td>actress</td>\n",
       "      <td>Tweede dokter</td>\n",
       "      <td>12.0</td>\n",
       "    </tr>\n",
       "    <tr>\n",
       "      <th>2686734</th>\n",
       "      <td>Romeo</td>\n",
       "      <td>1990</td>\n",
       "      <td>Judy Doorman</td>\n",
       "      <td>actress</td>\n",
       "      <td>Kennis Matthijs</td>\n",
       "      <td>13.0</td>\n",
       "    </tr>\n",
       "    <tr>\n",
       "      <th>3216766</th>\n",
       "      <td>Romeo</td>\n",
       "      <td>1990</td>\n",
       "      <td>Elja Pelgrom</td>\n",
       "      <td>actress</td>\n",
       "      <td>Kennis Anne</td>\n",
       "      <td>14.0</td>\n",
       "    </tr>\n",
       "    <tr>\n",
       "      <th>1143718</th>\n",
       "      <td>Romeo</td>\n",
       "      <td>1990</td>\n",
       "      <td>Arjan Kindermans</td>\n",
       "      <td>actor</td>\n",
       "      <td>Frank</td>\n",
       "      <td>15.0</td>\n",
       "    </tr>\n",
       "    <tr>\n",
       "      <th>1041700</th>\n",
       "      <td>Romeo</td>\n",
       "      <td>1990</td>\n",
       "      <td>David (II) Jansen</td>\n",
       "      <td>actor</td>\n",
       "      <td>Tommie</td>\n",
       "      <td>16.0</td>\n",
       "    </tr>\n",
       "    <tr>\n",
       "      <th>622552</th>\n",
       "      <td>Romeo</td>\n",
       "      <td>1990</td>\n",
       "      <td>Wick Ederveen</td>\n",
       "      <td>actor</td>\n",
       "      <td>Directeur</td>\n",
       "      <td>17.0</td>\n",
       "    </tr>\n",
       "    <tr>\n",
       "      <th>1041667</th>\n",
       "      <td>Romeo</td>\n",
       "      <td>1990</td>\n",
       "      <td>Quentin Janse</td>\n",
       "      <td>actor</td>\n",
       "      <td>Regie-assistent</td>\n",
       "      <td>18.0</td>\n",
       "    </tr>\n",
       "    <tr>\n",
       "      <th>3411321</th>\n",
       "      <td>Romeo</td>\n",
       "      <td>1990</td>\n",
       "      <td>Devika Strooker</td>\n",
       "      <td>actress</td>\n",
       "      <td>Actrice</td>\n",
       "      <td>19.0</td>\n",
       "    </tr>\n",
       "    <tr>\n",
       "      <th>2395388</th>\n",
       "      <td>Romeo</td>\n",
       "      <td>1990</td>\n",
       "      <td>Dirk Zeelenberg</td>\n",
       "      <td>actor</td>\n",
       "      <td>Acteur</td>\n",
       "      <td>20.0</td>\n",
       "    </tr>\n",
       "    <tr>\n",
       "      <th>2872471</th>\n",
       "      <td>Romeo</td>\n",
       "      <td>1990</td>\n",
       "      <td>Joke Hoolboom</td>\n",
       "      <td>actress</td>\n",
       "      <td>Vriendin</td>\n",
       "      <td>21.0</td>\n",
       "    </tr>\n",
       "    <tr>\n",
       "      <th>2901994</th>\n",
       "      <td>Romeo</td>\n",
       "      <td>1990</td>\n",
       "      <td>Leoni Jansen</td>\n",
       "      <td>actress</td>\n",
       "      <td>Vriendin</td>\n",
       "      <td>22.0</td>\n",
       "    </tr>\n",
       "    <tr>\n",
       "      <th>2902020</th>\n",
       "      <td>Romeo</td>\n",
       "      <td>1990</td>\n",
       "      <td>Magdalena Jansen</td>\n",
       "      <td>actress</td>\n",
       "      <td>Vriendin</td>\n",
       "      <td>23.0</td>\n",
       "    </tr>\n",
       "    <tr>\n",
       "      <th>3474068</th>\n",
       "      <td>Romeo</td>\n",
       "      <td>1990</td>\n",
       "      <td>Maeve van der Steen</td>\n",
       "      <td>actress</td>\n",
       "      <td>Vriendin</td>\n",
       "      <td>24.0</td>\n",
       "    </tr>\n",
       "    <tr>\n",
       "      <th>3469284</th>\n",
       "      <td>Romeo</td>\n",
       "      <td>1990</td>\n",
       "      <td>Dela Maria Vaags</td>\n",
       "      <td>actress</td>\n",
       "      <td>Vriendin</td>\n",
       "      <td>25.0</td>\n",
       "    </tr>\n",
       "    <tr>\n",
       "      <th>2219491</th>\n",
       "      <td>Romeo</td>\n",
       "      <td>1990</td>\n",
       "      <td>Dick van den Toorn</td>\n",
       "      <td>actor</td>\n",
       "      <td>Kennis op feest</td>\n",
       "      <td>26.0</td>\n",
       "    </tr>\n",
       "    <tr>\n",
       "      <th>229524</th>\n",
       "      <td>Romeo</td>\n",
       "      <td>1990</td>\n",
       "      <td>Peter Bos</td>\n",
       "      <td>actor</td>\n",
       "      <td>Kennis op bezoek</td>\n",
       "      <td>27.0</td>\n",
       "    </tr>\n",
       "    <tr>\n",
       "      <th>1933461</th>\n",
       "      <td>Romeo</td>\n",
       "      <td>1990</td>\n",
       "      <td>Nico Schaap</td>\n",
       "      <td>actor</td>\n",
       "      <td>Controleur tram</td>\n",
       "      <td>28.0</td>\n",
       "    </tr>\n",
       "    <tr>\n",
       "      <th>704060</th>\n",
       "      <td>Romeo</td>\n",
       "      <td>1990</td>\n",
       "      <td>De Gebroeders Flint</td>\n",
       "      <td>actor</td>\n",
       "      <td>Tram muzikanten</td>\n",
       "      <td>29.0</td>\n",
       "    </tr>\n",
       "    <tr>\n",
       "      <th>1108527</th>\n",
       "      <td>Romeo</td>\n",
       "      <td>1990</td>\n",
       "      <td>Dean Kaye-Creatrix</td>\n",
       "      <td>actor</td>\n",
       "      <td>Baby Romeo</td>\n",
       "      <td>30.0</td>\n",
       "    </tr>\n",
       "  </tbody>\n",
       "</table>\n",
       "</div>"
      ],
      "text/plain": [
       "         title  year                    name     type  \\\n",
       "553465   Romeo  2011                 Dev (V)    actor   \n",
       "756276   Romeo  2012            Ganesh (XII)    actor   \n",
       "3473481  Romeo  1990      Monique van de Ven  actress   \n",
       "2770608  Romeo  2011       Subhasree Ganguly  actress   \n",
       "2502342  Romeo  2012            Bhavana (II)  actress   \n",
       "1267959  Romeo  1990            Johan Leysen    actor   \n",
       "96846    Romeo  2012                 Avinash    actor   \n",
       "362580   Romeo  2011  Sabyasachi Chakraborty    actor   \n",
       "2515837  Romeo  1990     Ottolien Boeschoten  actress   \n",
       "218582   Romeo  1990           Peter Bolhuis    actor   \n",
       "2487862  Romeo  2012          Sudha Belawadi  actress   \n",
       "471511   Romeo  1990            Hans Croiset    actor   \n",
       "1773273  Romeo  2012         Rangayana Raghu    actor   \n",
       "529324   Romeo  1990           Peter De Wijn    actor   \n",
       "3446036  Romeo  1990               Coby Timp  actress   \n",
       "2219144  Romeo  1990        Bob van den Berg    actor   \n",
       "2983000  Romeo  1990             Pim Lambeau  actress   \n",
       "2793582  Romeo  1990  Mouna Goeman Borgesius  actress   \n",
       "847671   Romeo  1990           Theo de Groot    actor   \n",
       "2511769  Romeo  1990          Nettie Blanken  actress   \n",
       "2686734  Romeo  1990            Judy Doorman  actress   \n",
       "3216766  Romeo  1990            Elja Pelgrom  actress   \n",
       "1143718  Romeo  1990        Arjan Kindermans    actor   \n",
       "1041700  Romeo  1990       David (II) Jansen    actor   \n",
       "622552   Romeo  1990           Wick Ederveen    actor   \n",
       "1041667  Romeo  1990           Quentin Janse    actor   \n",
       "3411321  Romeo  1990         Devika Strooker  actress   \n",
       "2395388  Romeo  1990         Dirk Zeelenberg    actor   \n",
       "2872471  Romeo  1990           Joke Hoolboom  actress   \n",
       "2901994  Romeo  1990            Leoni Jansen  actress   \n",
       "2902020  Romeo  1990        Magdalena Jansen  actress   \n",
       "3474068  Romeo  1990     Maeve van der Steen  actress   \n",
       "3469284  Romeo  1990        Dela Maria Vaags  actress   \n",
       "2219491  Romeo  1990      Dick van den Toorn    actor   \n",
       "229524   Romeo  1990               Peter Bos    actor   \n",
       "1933461  Romeo  1990             Nico Schaap    actor   \n",
       "704060   Romeo  1990     De Gebroeders Flint    actor   \n",
       "1108527  Romeo  1990      Dean Kaye-Creatrix    actor   \n",
       "\n",
       "                       character     n  \n",
       "553465   Siddhartha Roy (Siddhu)   1.0  \n",
       "756276                    Ganesh   1.0  \n",
       "3473481              Anne Herden   1.0  \n",
       "2770608         Pooja Chatterjee   2.0  \n",
       "2502342                  Shruthi   2.0  \n",
       "1267959                 Matthijs   2.0  \n",
       "96846           Shruthi's Father   3.0  \n",
       "362580                Aviraj Roy   3.0  \n",
       "2515837                      Nel   3.0  \n",
       "218582                     Chiel   4.0  \n",
       "2487862          Ganesh's Mother   4.0  \n",
       "471511                    Dokter   5.0  \n",
       "1773273          Ganesh's Father   5.0  \n",
       "529324                 Verhoeven   6.0  \n",
       "3446036                   Moeder   7.0  \n",
       "2219144                    Vader   8.0  \n",
       "2983000          Dame met hondje   9.0  \n",
       "2793582             Verpleegster  10.0  \n",
       "847671              Co-assistent  11.0  \n",
       "2511769            Tweede dokter  12.0  \n",
       "2686734          Kennis Matthijs  13.0  \n",
       "3216766              Kennis Anne  14.0  \n",
       "1143718                    Frank  15.0  \n",
       "1041700                   Tommie  16.0  \n",
       "622552                 Directeur  17.0  \n",
       "1041667          Regie-assistent  18.0  \n",
       "3411321                  Actrice  19.0  \n",
       "2395388                   Acteur  20.0  \n",
       "2872471                 Vriendin  21.0  \n",
       "2901994                 Vriendin  22.0  \n",
       "2902020                 Vriendin  23.0  \n",
       "3474068                 Vriendin  24.0  \n",
       "3469284                 Vriendin  25.0  \n",
       "2219491          Kennis op feest  26.0  \n",
       "229524          Kennis op bezoek  27.0  \n",
       "1933461          Controleur tram  28.0  \n",
       "704060           Tram muzikanten  29.0  \n",
       "1108527               Baby Romeo  30.0  "
      ]
     },
     "execution_count": 24,
     "metadata": {},
     "output_type": "execute_result"
    }
   ],
   "source": [
    "# Mostrar el elenco completo de la pelicula \"Romeo\" \n",
    "# ordenado por su clasificasión \"n\", ignorando los papeles que \n",
    "# no se les asigno ningun valor \"n\"\n",
    "\n",
    "c = elenco\n",
    "c = c[c.title == \"Romeo\"]\n",
    "c = c[c.n.notnull()].sort_values('n')\n",
    "c"
   ]
  },
  {
   "cell_type": "code",
   "execution_count": 25,
   "metadata": {
    "id": "BA2hdamr1lyu",
    "outputId": "f45a4514-509c-4972-9272-4f6fd4ed3bd7"
   },
   "outputs": [
    {
     "data": {
      "text/html": [
       "<div>\n",
       "<style scoped>\n",
       "    .dataframe tbody tr th:only-of-type {\n",
       "        vertical-align: middle;\n",
       "    }\n",
       "\n",
       "    .dataframe tbody tr th {\n",
       "        vertical-align: top;\n",
       "    }\n",
       "\n",
       "    .dataframe thead th {\n",
       "        text-align: right;\n",
       "    }\n",
       "</style>\n",
       "<table border=\"1\" class=\"dataframe\">\n",
       "  <thead>\n",
       "    <tr style=\"text-align: right;\">\n",
       "      <th></th>\n",
       "      <th>title</th>\n",
       "      <th>year</th>\n",
       "      <th>name</th>\n",
       "      <th>type</th>\n",
       "      <th>character</th>\n",
       "      <th>n</th>\n",
       "    </tr>\n",
       "  </thead>\n",
       "  <tbody>\n",
       "    <tr>\n",
       "      <th>263322</th>\n",
       "      <td>Godzilla</td>\n",
       "      <td>1998</td>\n",
       "      <td>Matthew Broderick</td>\n",
       "      <td>actor</td>\n",
       "      <td>Dr. Niko Tatopoulos</td>\n",
       "      <td>1.0</td>\n",
       "    </tr>\n",
       "    <tr>\n",
       "      <th>1809337</th>\n",
       "      <td>Godzilla</td>\n",
       "      <td>1998</td>\n",
       "      <td>Jean Reno</td>\n",
       "      <td>actor</td>\n",
       "      <td>Philippe Roach?</td>\n",
       "      <td>2.0</td>\n",
       "    </tr>\n",
       "    <tr>\n",
       "      <th>3233371</th>\n",
       "      <td>Godzilla</td>\n",
       "      <td>1998</td>\n",
       "      <td>Maria Pitillo</td>\n",
       "      <td>actress</td>\n",
       "      <td>Audrey Timmonds</td>\n",
       "      <td>3.0</td>\n",
       "    </tr>\n",
       "    <tr>\n",
       "      <th>99649</th>\n",
       "      <td>Godzilla</td>\n",
       "      <td>1998</td>\n",
       "      <td>Hank Azaria</td>\n",
       "      <td>actor</td>\n",
       "      <td>Victor 'Animal' Palotti</td>\n",
       "      <td>4.0</td>\n",
       "    </tr>\n",
       "    <tr>\n",
       "      <th>606991</th>\n",
       "      <td>Godzilla</td>\n",
       "      <td>1998</td>\n",
       "      <td>Kevin Dunn</td>\n",
       "      <td>actor</td>\n",
       "      <td>Colonel Hicks</td>\n",
       "      <td>5.0</td>\n",
       "    </tr>\n",
       "    <tr>\n",
       "      <th>...</th>\n",
       "      <td>...</td>\n",
       "      <td>...</td>\n",
       "      <td>...</td>\n",
       "      <td>...</td>\n",
       "      <td>...</td>\n",
       "      <td>...</td>\n",
       "    </tr>\n",
       "    <tr>\n",
       "      <th>2529498</th>\n",
       "      <td>Godzilla</td>\n",
       "      <td>1998</td>\n",
       "      <td>Dara J. Bragg</td>\n",
       "      <td>actress</td>\n",
       "      <td>Lady running</td>\n",
       "      <td>NaN</td>\n",
       "    </tr>\n",
       "    <tr>\n",
       "      <th>2784297</th>\n",
       "      <td>Godzilla</td>\n",
       "      <td>1998</td>\n",
       "      <td>Mary Ann Giannino</td>\n",
       "      <td>actress</td>\n",
       "      <td>Police Press Reporter</td>\n",
       "      <td>NaN</td>\n",
       "    </tr>\n",
       "    <tr>\n",
       "      <th>2836582</th>\n",
       "      <td>Godzilla</td>\n",
       "      <td>1998</td>\n",
       "      <td>Lynn Harder</td>\n",
       "      <td>actress</td>\n",
       "      <td>Mayor's Pilot #1</td>\n",
       "      <td>NaN</td>\n",
       "    </tr>\n",
       "    <tr>\n",
       "      <th>3124994</th>\n",
       "      <td>Godzilla</td>\n",
       "      <td>1998</td>\n",
       "      <td>Gretchen Mol</td>\n",
       "      <td>actress</td>\n",
       "      <td>Reporter</td>\n",
       "      <td>NaN</td>\n",
       "    </tr>\n",
       "    <tr>\n",
       "      <th>3275715</th>\n",
       "      <td>Godzilla</td>\n",
       "      <td>1998</td>\n",
       "      <td>Judy (II) Reyes</td>\n",
       "      <td>actress</td>\n",
       "      <td>Woman #1</td>\n",
       "      <td>NaN</td>\n",
       "    </tr>\n",
       "  </tbody>\n",
       "</table>\n",
       "<p>121 rows × 6 columns</p>\n",
       "</div>"
      ],
      "text/plain": [
       "            title  year               name     type                character  \\\n",
       "263322   Godzilla  1998  Matthew Broderick    actor      Dr. Niko Tatopoulos   \n",
       "1809337  Godzilla  1998          Jean Reno    actor          Philippe Roach?   \n",
       "3233371  Godzilla  1998      Maria Pitillo  actress          Audrey Timmonds   \n",
       "99649    Godzilla  1998        Hank Azaria    actor  Victor 'Animal' Palotti   \n",
       "606991   Godzilla  1998         Kevin Dunn    actor            Colonel Hicks   \n",
       "...           ...   ...                ...      ...                      ...   \n",
       "2529498  Godzilla  1998      Dara J. Bragg  actress             Lady running   \n",
       "2784297  Godzilla  1998  Mary Ann Giannino  actress    Police Press Reporter   \n",
       "2836582  Godzilla  1998        Lynn Harder  actress         Mayor's Pilot #1   \n",
       "3124994  Godzilla  1998       Gretchen Mol  actress                 Reporter   \n",
       "3275715  Godzilla  1998    Judy (II) Reyes  actress                 Woman #1   \n",
       "\n",
       "           n  \n",
       "263322   1.0  \n",
       "1809337  2.0  \n",
       "3233371  3.0  \n",
       "99649    4.0  \n",
       "606991   5.0  \n",
       "...      ...  \n",
       "2529498  NaN  \n",
       "2784297  NaN  \n",
       "2836582  NaN  \n",
       "3124994  NaN  \n",
       "3275715  NaN  \n",
       "\n",
       "[121 rows x 6 columns]"
      ]
     },
     "execution_count": 25,
     "metadata": {},
     "output_type": "execute_result"
    }
   ],
   "source": [
    "# Mostrar el elenco completo ordenado por la clasificacion \"n\"\n",
    "# de la pelicula \"Godzilla\" de 1998\n",
    "c = elenco\n",
    "c = c[ (c.title == \"Godzilla\") & (c.year == 1998) ] \n",
    "c = c.sort_values(\"n\")\n",
    "c"
   ]
  },
  {
   "cell_type": "code",
   "execution_count": 26,
   "metadata": {
    "id": "J8UQByXx1lyv",
    "outputId": "9d2a4a94-bca3-4817-e5df-54fe44ddde79"
   },
   "outputs": [
    {
     "data": {
      "text/plain": [
       "19"
      ]
     },
     "execution_count": 26,
     "metadata": {},
     "output_type": "execute_result"
    }
   ],
   "source": [
    "# Cuantos papeles fueron listados en la pelicula \"Dracula\" de 1979\n",
    "c = elenco\n",
    "c = c[ (c.title == \"Dracula\") & (c.year == 1979) ]\n",
    "len(c)"
   ]
  },
  {
   "cell_type": "code",
   "execution_count": 28,
   "metadata": {
    "id": "C0Q9zISe1ly0",
    "outputId": "5c6b51ed-c305-4ecc-f47b-e802090518fb"
   },
   "outputs": [
    {
     "data": {
      "text/plain": [
       "22"
      ]
     },
     "execution_count": 28,
     "metadata": {},
     "output_type": "execute_result"
    }
   ],
   "source": [
    "# Cuantos papeles de \"Clark Kent\" han sido hechos en la historia \n",
    "# de las peliculas\n",
    "c = elenco \n",
    "c = c[c.character == \"Clark Kent\"]\n",
    "len(c)"
   ]
  },
  {
   "cell_type": "code",
   "execution_count": 29,
   "metadata": {
    "id": "nMo8tQFw1ly1",
    "outputId": "47c46b5e-23c1-4db1-eb74-61ec453c9bd4"
   },
   "outputs": [
    {
     "data": {
      "text/plain": [
       "52"
      ]
     },
     "execution_count": 29,
     "metadata": {},
     "output_type": "execute_result"
    }
   ],
   "source": [
    "# Cuanta gente ah hecho el papel de \"Julieta\"\n",
    "c = elenco\n",
    "c = c[c.character == \"Julieta\"]\n",
    "len(c)"
   ]
  },
  {
   "cell_type": "code",
   "execution_count": 30,
   "metadata": {
    "id": "TRHhu_2y1ly2",
    "outputId": "a34ecc13-c30e-4b5a-c728-e347bd4f7dd8"
   },
   "outputs": [
    {
     "data": {
      "text/plain": [
       "0"
      ]
     },
     "execution_count": 30,
     "metadata": {},
     "output_type": "execute_result"
    }
   ],
   "source": [
    "# Cuantos papeles ah hecho \"Keanu\" en su carrera\n",
    "c = elenco\n",
    "c = c[c.name == \"Keanu\"]\n",
    "len(c)"
   ]
  },
  {
   "cell_type": "code",
   "execution_count": 31,
   "metadata": {
    "id": "XgWx8QX_1ly3",
    "outputId": "e2648471-5227-40ef-f542-6a3766f81c81"
   },
   "outputs": [
    {
     "data": {
      "text/html": [
       "<div>\n",
       "<style scoped>\n",
       "    .dataframe tbody tr th:only-of-type {\n",
       "        vertical-align: middle;\n",
       "    }\n",
       "\n",
       "    .dataframe tbody tr th {\n",
       "        vertical-align: top;\n",
       "    }\n",
       "\n",
       "    .dataframe thead th {\n",
       "        text-align: right;\n",
       "    }\n",
       "</style>\n",
       "<table border=\"1\" class=\"dataframe\">\n",
       "  <thead>\n",
       "    <tr style=\"text-align: right;\">\n",
       "      <th></th>\n",
       "      <th>title</th>\n",
       "      <th>year</th>\n",
       "      <th>name</th>\n",
       "      <th>type</th>\n",
       "      <th>character</th>\n",
       "      <th>n</th>\n",
       "    </tr>\n",
       "  </thead>\n",
       "  <tbody>\n",
       "    <tr>\n",
       "      <th>497631</th>\n",
       "      <td>The Legend of Bagger Vance</td>\n",
       "      <td>2000</td>\n",
       "      <td>Matt Damon</td>\n",
       "      <td>actor</td>\n",
       "      <td>Rannulph Junuh</td>\n",
       "      <td>2.0</td>\n",
       "    </tr>\n",
       "    <tr>\n",
       "      <th>497597</th>\n",
       "      <td>Gerry</td>\n",
       "      <td>2002</td>\n",
       "      <td>Matt Damon</td>\n",
       "      <td>actor</td>\n",
       "      <td>Gerry</td>\n",
       "      <td>2.0</td>\n",
       "    </tr>\n",
       "    <tr>\n",
       "      <th>497627</th>\n",
       "      <td>The Departed</td>\n",
       "      <td>2006</td>\n",
       "      <td>Matt Damon</td>\n",
       "      <td>actor</td>\n",
       "      <td>Colin Sullivan</td>\n",
       "      <td>2.0</td>\n",
       "    </tr>\n",
       "    <tr>\n",
       "      <th>497604</th>\n",
       "      <td>Invictus</td>\n",
       "      <td>2009</td>\n",
       "      <td>Matt Damon</td>\n",
       "      <td>actor</td>\n",
       "      <td>Francois Pienaar</td>\n",
       "      <td>2.0</td>\n",
       "    </tr>\n",
       "  </tbody>\n",
       "</table>\n",
       "</div>"
      ],
      "text/plain": [
       "                             title  year        name   type         character  \\\n",
       "497631  The Legend of Bagger Vance  2000  Matt Damon  actor    Rannulph Junuh   \n",
       "497597                       Gerry  2002  Matt Damon  actor             Gerry   \n",
       "497627                The Departed  2006  Matt Damon  actor    Colin Sullivan   \n",
       "497604                    Invictus  2009  Matt Damon  actor  Francois Pienaar   \n",
       "\n",
       "          n  \n",
       "497631  2.0  \n",
       "497597  2.0  \n",
       "497627  2.0  \n",
       "497604  2.0  "
      ]
     },
     "execution_count": 31,
     "metadata": {},
     "output_type": "execute_result"
    }
   ],
   "source": [
    "# Listado de papeles de soporte que tuvo el actor \"Matt Damon\" en\n",
    "# la decada de los 00's, ordenado por año\n",
    "\n",
    "c = elenco\n",
    "c = c[c.name == \"Matt Damon\"]\n",
    "c = c[c.n == 2]\n",
    "c = c[c.year // 10 == 200]\n",
    "c = c.sort_values('year')\n",
    "c"
   ]
  },
  {
   "cell_type": "code",
   "execution_count": 32,
   "metadata": {
    "id": "RIGXivf41ly4",
    "outputId": "549197b0-7ba4-4855-b124-0a6c9fbe949d"
   },
   "outputs": [
    {
     "data": {
      "text/html": [
       "<div>\n",
       "<style scoped>\n",
       "    .dataframe tbody tr th:only-of-type {\n",
       "        vertical-align: middle;\n",
       "    }\n",
       "\n",
       "    .dataframe tbody tr th {\n",
       "        vertical-align: top;\n",
       "    }\n",
       "\n",
       "    .dataframe thead th {\n",
       "        text-align: right;\n",
       "    }\n",
       "</style>\n",
       "<table border=\"1\" class=\"dataframe\">\n",
       "  <thead>\n",
       "    <tr style=\"text-align: right;\">\n",
       "      <th></th>\n",
       "      <th>title</th>\n",
       "      <th>year</th>\n",
       "      <th>name</th>\n",
       "      <th>type</th>\n",
       "      <th>character</th>\n",
       "      <th>n</th>\n",
       "    </tr>\n",
       "  </thead>\n",
       "  <tbody>\n",
       "    <tr>\n",
       "      <th>1722122</th>\n",
       "      <td>Meet Joe Black</td>\n",
       "      <td>1998</td>\n",
       "      <td>Brad Pitt</td>\n",
       "      <td>actor</td>\n",
       "      <td>Joe Black</td>\n",
       "      <td>1.0</td>\n",
       "    </tr>\n",
       "    <tr>\n",
       "      <th>1722123</th>\n",
       "      <td>Meet Joe Black</td>\n",
       "      <td>1998</td>\n",
       "      <td>Brad Pitt</td>\n",
       "      <td>actor</td>\n",
       "      <td>Young Man in Coffee Shop</td>\n",
       "      <td>1.0</td>\n",
       "    </tr>\n",
       "    <tr>\n",
       "      <th>1722132</th>\n",
       "      <td>Seven Years in Tibet</td>\n",
       "      <td>1997</td>\n",
       "      <td>Brad Pitt</td>\n",
       "      <td>actor</td>\n",
       "      <td>Heinrich Harrer</td>\n",
       "      <td>1.0</td>\n",
       "    </tr>\n",
       "    <tr>\n",
       "      <th>1722115</th>\n",
       "      <td>Interview with the Vampire: The Vampire Chroni...</td>\n",
       "      <td>1994</td>\n",
       "      <td>Brad Pitt</td>\n",
       "      <td>actor</td>\n",
       "      <td>Louis</td>\n",
       "      <td>1.0</td>\n",
       "    </tr>\n",
       "    <tr>\n",
       "      <th>1722119</th>\n",
       "      <td>Legends of the Fall</td>\n",
       "      <td>1994</td>\n",
       "      <td>Brad Pitt</td>\n",
       "      <td>actor</td>\n",
       "      <td>Tristan Ludlow</td>\n",
       "      <td>1.0</td>\n",
       "    </tr>\n",
       "    <tr>\n",
       "      <th>1722117</th>\n",
       "      <td>Kalifornia</td>\n",
       "      <td>1993</td>\n",
       "      <td>Brad Pitt</td>\n",
       "      <td>actor</td>\n",
       "      <td>Early Grayce</td>\n",
       "      <td>1.0</td>\n",
       "    </tr>\n",
       "    <tr>\n",
       "      <th>1722116</th>\n",
       "      <td>Johnny Suede</td>\n",
       "      <td>1991</td>\n",
       "      <td>Brad Pitt</td>\n",
       "      <td>actor</td>\n",
       "      <td>Johnny Suede</td>\n",
       "      <td>1.0</td>\n",
       "    </tr>\n",
       "  </tbody>\n",
       "</table>\n",
       "</div>"
      ],
      "text/plain": [
       "                                                     title  year       name  \\\n",
       "1722122                                     Meet Joe Black  1998  Brad Pitt   \n",
       "1722123                                     Meet Joe Black  1998  Brad Pitt   \n",
       "1722132                               Seven Years in Tibet  1997  Brad Pitt   \n",
       "1722115  Interview with the Vampire: The Vampire Chroni...  1994  Brad Pitt   \n",
       "1722119                                Legends of the Fall  1994  Brad Pitt   \n",
       "1722117                                         Kalifornia  1993  Brad Pitt   \n",
       "1722116                                       Johnny Suede  1991  Brad Pitt   \n",
       "\n",
       "          type                 character    n  \n",
       "1722122  actor                 Joe Black  1.0  \n",
       "1722123  actor  Young Man in Coffee Shop  1.0  \n",
       "1722132  actor           Heinrich Harrer  1.0  \n",
       "1722115  actor                     Louis  1.0  \n",
       "1722119  actor            Tristan Ludlow  1.0  \n",
       "1722117  actor              Early Grayce  1.0  \n",
       "1722116  actor              Johnny Suede  1.0  "
      ]
     },
     "execution_count": 32,
     "metadata": {},
     "output_type": "execute_result"
    }
   ],
   "source": [
    "# Listado de papeles como protagonista que tuvo el actor \"Brad Pitt\" en\n",
    "# la decada de los 90's, ordenado por año de forma descendente\n",
    "\n",
    "c = elenco\n",
    "c = c[c.name == \"Brad Pitt\"]\n",
    "c = c[c.n == 1]\n",
    "c = c[c.year // 10 == 199]\n",
    "c = c.sort_values('year',ascending=False)\n",
    "c"
   ]
  },
  {
   "cell_type": "code",
   "execution_count": 33,
   "metadata": {
    "id": "QTdo69WT1ly5",
    "outputId": "8b921978-5389-48d2-8f60-572f17ce69e0"
   },
   "outputs": [
    {
     "data": {
      "text/plain": [
       "257429"
      ]
     },
     "execution_count": 33,
     "metadata": {},
     "output_type": "execute_result"
    }
   ],
   "source": [
    "# ¿Cuantos papeles para actores hubo en la decada de los 90's?\n",
    "c = elenco\n",
    "c = c[c.type == \"actor\"]\n",
    "c = c[c.year //10 == 199]\n",
    "len(c)"
   ]
  },
  {
   "cell_type": "code",
   "execution_count": 34,
   "metadata": {
    "id": "Ajz-8i2I1ly6",
    "outputId": "112d7da2-9537-4adf-cf2b-b1400d55cec0"
   },
   "outputs": [
    {
     "data": {
      "text/plain": [
       "50794"
      ]
     },
     "execution_count": 34,
     "metadata": {},
     "output_type": "execute_result"
    }
   ],
   "source": [
    "# ¿Cuantos papeles para actrices hubo en la decada de los 40's ?\n",
    "c = elenco\n",
    "c = c[c.type == \"actress\"]\n",
    "c = c[c.year //10 == 194]\n",
    "len(c)"
   ]
  },
  {
   "cell_type": "code",
   "execution_count": 35,
   "metadata": {
    "id": "DVd82XqM1ly8",
    "outputId": "6809ef77-e639-4543-c39c-3ca4bcfc7a5b"
   },
   "outputs": [
    {
     "data": {
      "text/plain": [
       "76727"
      ]
     },
     "execution_count": 35,
     "metadata": {},
     "output_type": "execute_result"
    }
   ],
   "source": [
    "# ¿Cuantos papeles protagonicos existen desde el principio de\n",
    "# la historia filmatografica hasta 1990 ?\n",
    "c = elenco\n",
    "c = c[c.n == 1]\n",
    "c = c[c.year <= 1990]\n",
    "len(c)"
   ]
  }
 ],
 "metadata": {
  "colab": {
   "provenance": []
  },
  "kernelspec": {
   "display_name": "base",
   "language": "python",
   "name": "python3"
  },
  "language_info": {
   "codemirror_mode": {
    "name": "ipython",
    "version": 3
   },
   "file_extension": ".py",
   "mimetype": "text/x-python",
   "name": "python",
   "nbconvert_exporter": "python",
   "pygments_lexer": "ipython3",
   "version": "3.9.13"
  },
  "vscode": {
   "interpreter": {
    "hash": "461ed354ce429dd545b7a054f76b7c87599c3dae939674d6c0f4dd8640ad74a4"
   }
  }
 },
 "nbformat": 4,
 "nbformat_minor": 0
}
