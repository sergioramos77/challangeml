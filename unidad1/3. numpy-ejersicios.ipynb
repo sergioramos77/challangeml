{
 "cells": [
  {
   "cell_type": "code",
   "execution_count": null,
   "metadata": {
    "collapsed": true,
    "id": "8ld8x8tC15sv"
   },
   "outputs": [],
   "source": [
    "import numpy as np"
   ]
  },
  {
   "attachments": {},
   "cell_type": "markdown",
   "metadata": {
    "id": "rfDLiW_j15sz"
   },
   "source": [
    "### Crear un vector con valores dentro del rango 5 a 20"
   ]
  },
  {
   "cell_type": "code",
   "execution_count": null,
   "metadata": {
    "id": "tE40h02X15s7",
    "outputId": "db3f1674-ecdf-4ce4-8b0f-f3e15d8ef1e8",
    "pycharm": {
     "is_executing": true
    }
   },
   "outputs": [],
   "source": [
    "a = np.arange(7,20)\n",
    "a"
   ]
  },
  {
   "cell_type": "markdown",
   "metadata": {
    "id": "IgAZ-Tax15s-"
   },
   "source": [
    "### Invertir el vector"
   ]
  },
  {
   "cell_type": "code",
   "execution_count": null,
   "metadata": {
    "id": "-9uF_8tg15tB",
    "outputId": "cc080644-6d75-4898-c77a-492db275247e",
    "pycharm": {
     "is_executing": true
    }
   },
   "outputs": [],
   "source": [
    "a[::-1]"
   ]
  },
  {
   "attachments": {},
   "cell_type": "markdown",
   "metadata": {
    "id": "60AQcgSS15tC"
   },
   "source": [
    "### Crear una matriz 4x4 con valores de 8 a 24"
   ]
  },
  {
   "cell_type": "code",
   "execution_count": null,
   "metadata": {
    "id": "ZE_t7DVl15tD",
    "outputId": "4b5dec17-79b0-4570-bcd1-48a21661bdc4",
    "pycharm": {
     "is_executing": true
    }
   },
   "outputs": [],
   "source": [
    "np.arange(8,24).reshape(4,4)"
   ]
  },
  {
   "attachments": {},
   "cell_type": "markdown",
   "metadata": {
    "id": "lXyIk8sQ15tE"
   },
   "source": [
    "### Encontrar los indices que no son unos del arreglo [2,3,4,5,6,7,23,8,1,2,2]"
   ]
  },
  {
   "cell_type": "code",
   "execution_count": null,
   "metadata": {
    "id": "N4yUOwHS15tF",
    "outputId": "819a5cab-c051-4b34-b325-210740bcbfa2",
    "pycharm": {
     "is_executing": true
    }
   },
   "outputs": [],
   "source": [
    "a = np.array([2,3,4,5,6,7,23,8,1,2,2])\n",
    "np.argwhere( a!=1 )"
   ]
  },
  {
   "attachments": {},
   "cell_type": "markdown",
   "metadata": {
    "id": "fcWXi6DA15tH"
   },
   "source": [
    "### Crear una matriz identidad de 5x5"
   ]
  },
  {
   "cell_type": "code",
   "execution_count": null,
   "metadata": {
    "id": "8kIl03Zk15tI",
    "outputId": "805b599f-f9f3-444a-bdda-4e62d6d2b49a",
    "pycharm": {
     "is_executing": true
    }
   },
   "outputs": [],
   "source": [
    "np.identity(5)"
   ]
  },
  {
   "attachments": {},
   "cell_type": "markdown",
   "metadata": {
    "id": "or8EpK_u15tM"
   },
   "source": [
    "### Crear una matriz con valores al azar con forma 2x2x2 "
   ]
  },
  {
   "cell_type": "code",
   "execution_count": null,
   "metadata": {
    "id": "8dBDzoWy15tM",
    "outputId": "efb70099-946e-4999-9883-8965e2b8dc36",
    "pycharm": {
     "is_executing": true
    }
   },
   "outputs": [],
   "source": [
    "r = np.random.random((2,2,2))\n",
    "r"
   ]
  },
  {
   "cell_type": "markdown",
   "metadata": {
    "id": "DMNhvXar15tO"
   },
   "source": [
    "### Encontrar los indices de los valores minimos y maximos de la anterior matriz"
   ]
  },
  {
   "cell_type": "code",
   "execution_count": null,
   "metadata": {
    "id": "TbcicuZm15tP",
    "outputId": "6263c78f-4ee0-4733-ea1a-3043f547beca",
    "pycharm": {
     "is_executing": true
    }
   },
   "outputs": [],
   "source": [
    "print( r.argmax() )\n",
    "print( r.ravel()[r1.argmax()] )\n",
    "\n",
    "print(r)\n",
    "print(np.unravel_index(r.argmax(), r.shape))\n",
    "r[np.unravel_index(r.argmax(), r.shape)]"
   ]
  },
  {
   "attachments": {},
   "cell_type": "markdown",
   "metadata": {
    "id": "-sieA7kM15tR"
   },
   "source": [
    "### Crear una matriz de 5x5 con 1's en los bordes y 0 en el interior (con rangos de indices)"
   ]
  },
  {
   "cell_type": "code",
   "execution_count": null,
   "metadata": {
    "id": "EGyYgqLA15tR",
    "outputId": "791efd09-c882-41ba-8ce1-b0cfe7dc1c46",
    "pycharm": {
     "is_executing": true
    }
   },
   "outputs": [],
   "source": [
    "z = np.ones((5,5))\n",
    "\n",
    "z[1:-1,1:-1] = 0\n",
    "z"
   ]
  },
  {
   "attachments": {},
   "cell_type": "markdown",
   "metadata": {
    "id": "xT34ZYq115tT"
   },
   "source": [
    "### Crear una matriz de 4x4 con valores en los renglones que vayan de 0 a 3"
   ]
  },
  {
   "cell_type": "code",
   "execution_count": null,
   "metadata": {
    "id": "xUmXo6Fw15tU",
    "outputId": "50a96007-5f25-40e5-bc1d-ea72550a374a",
    "pycharm": {
     "is_executing": true
    }
   },
   "outputs": [],
   "source": [
    "np.tile( np.arange(0,4) , 4).reshape(4,4)"
   ]
  },
  {
   "cell_type": "markdown",
   "metadata": {
    "id": "6_cHqNa415tV"
   },
   "source": [
    "### Crear dos arreglos al azar A y B, verificar si son iguales"
   ]
  },
  {
   "cell_type": "code",
   "execution_count": null,
   "metadata": {
    "id": "WmNFjKOw15tX",
    "outputId": "f78aad22-1410-49b1-dd7c-ac7d1d7cf34f"
   },
   "outputs": [],
   "source": [
    "aa = np.random.random((4,4))\n",
    "bb = np.random.random((4,4))\n",
    "\n",
    "aa == bb"
   ]
  },
  {
   "cell_type": "code",
   "execution_count": null,
   "metadata": {
    "id": "977gBzgS15tb",
    "outputId": "8ef30f11-2bb3-47e1-e96d-502e03513600"
   },
   "outputs": [],
   "source": [
    "np.allclose(aa,bb)  # Con tolerancia, dada por argumentos: rtol atol\n"
   ]
  },
  {
   "cell_type": "code",
   "execution_count": null,
   "metadata": {
    "id": "k3Yyq9ms15tc",
    "outputId": "2e5b4edb-3c8c-469d-bb74-d76f5c6d29a3"
   },
   "outputs": [],
   "source": [
    "np.array_equal(aa,bb)"
   ]
  }
 ],
 "metadata": {
  "colab": {
   "provenance": []
  },
  "kernelspec": {
   "display_name": "base",
   "language": "python",
   "name": "python3"
  },
  "language_info": {
   "codemirror_mode": {
    "name": "ipython",
    "version": 3
   },
   "file_extension": ".py",
   "mimetype": "text/x-python",
   "name": "python",
   "nbconvert_exporter": "python",
   "pygments_lexer": "ipython3",
   "version": "3.9.13 (main, Aug 25 2022, 23:51:50) [MSC v.1916 64 bit (AMD64)]"
  },
  "vscode": {
   "interpreter": {
    "hash": "461ed354ce429dd545b7a054f76b7c87599c3dae939674d6c0f4dd8640ad74a4"
   }
  }
 },
 "nbformat": 4,
 "nbformat_minor": 0
}
