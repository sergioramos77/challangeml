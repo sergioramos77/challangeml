{
 "cells": [
  {
   "cell_type": "code",
   "execution_count": 2,
   "metadata": {
    "collapsed": false
   },
   "outputs": [],
   "source": [
    "\n",
    "import numpy as np\n",
    "import pandas as pd\n",
    "\n",
    "locations = [\"RPT\", \"VAL\", \"ROS\", \"KIL\", \"SHA\", \"BIR\", \"DUB\", \"CLA\", \"MUL\", \"CLO\", \"BEL\", \"MAL\"]\n",
    "\n",
    "\n",
    "\n",
    "data_raw = np.loadtxt('/Users/mertatalay/Desktop/programacionII/wind.data')\n",
    "\n",
    "\n",
    "wind_db = data_raw[:,3:]"
   ]
  },
  {
   "cell_type": "code",
   "execution_count": null,
   "metadata": {},
   "outputs": [],
   "source": [
    "wind_db"
   ]
  },
  {
   "cell_type": "code",
   "execution_count": null,
   "metadata": {
    "collapsed": false
   },
   "outputs": [],
   "source": [
    "wind_db.shape"
   ]
  },
  {
   "cell_type": "code",
   "execution_count": null,
   "metadata": {
    "collapsed": false
   },
   "outputs": [],
   "source": [
    "# Importamos la funcionalidad de matplotlib, y el graficado inline\n",
    "import matplotlib.pyplot as plt\n",
    "%matplotlib inline\n",
    "#%matplotlib qt\n",
    "#plt.style.use('ggplot')\n",
    "\n",
    "# Nueva figura\n",
    "plt.figure(figsize=(15,6)) \n",
    "\n",
    "# Para cada serie un plot.\n",
    "for idx,lname in enumerate(locations):\n",
    "    plt.plot(wind_db[:,idx] * 0.514444, label=lname)   # a m/s \n",
    "    \n",
    "plt.ylabel('m/s')    \n",
    "plt.legend()    \n",
    "\n",
    "#plt.show()"
   ]
  },
  {
   "cell_type": "code",
   "execution_count": null,
   "metadata": {
    "collapsed": false
   },
   "outputs": [],
   "source": [
    "# eje x con rango de fechas\n",
    "\n",
    "from matplotlib.dates import drange   # Modulo rango fechas de matplotlib\n",
    "import datetime as dt                 # objeto para manipular fechas de python\n",
    "\n",
    "# Fecha de inicio de la serie y final\n",
    "startd = dt.datetime(1900 + int(data_raw[0,0]),\n",
    "                     int(data_raw[0,1]), \n",
    "                     int(data_raw[0,2]))        \n",
    "# Fecha final\n",
    "endd = dt.datetime(1900 + int(data_raw[-1,0]),\n",
    "                   int(data_raw[-1,1]), \n",
    "                   int(data_raw[-1,2])) + dt.timedelta(days=1) \n",
    "\n",
    "# Rango de fechas en el formato de matplotlib   (start,end,step)\n",
    "mpl_dr = drange(startd, endd, dt.timedelta(days=1) )\n",
    "\n",
    "\n",
    "print (startd, endd)\n",
    "\n",
    "\n",
    "plt.figure(figsize=(15,6)) \n",
    "\n",
    "for idx,lname in enumerate(locations[:]):\n",
    "    plt.plot_date(mpl_dr, wind_db[:,idx] * 0.514444, fmt='-', label=lname)\n",
    "    \n",
    "plt.xlim([startd-dt.timedelta(days=30), endd+dt.timedelta(days=30)])\n",
    "plt.ylabel('m/s')    \n",
    "\n",
    "plt.legend()  \n",
    "plt.title(\"Series completas\")\n"
   ]
  },
  {
   "cell_type": "code",
   "execution_count": null,
   "metadata": {
    "collapsed": false
   },
   "outputs": [],
   "source": [
    "wind_db.min()"
   ]
  },
  {
   "cell_type": "code",
   "execution_count": null,
   "metadata": {
    "collapsed": false
   },
   "outputs": [],
   "source": [
    "wind_db.max()"
   ]
  },
  {
   "cell_type": "code",
   "execution_count": null,
   "metadata": {
    "collapsed": false
   },
   "outputs": [],
   "source": [
    "wind_db.mean()"
   ]
  },
  {
   "cell_type": "code",
   "execution_count": null,
   "metadata": {
    "collapsed": false
   },
   "outputs": [],
   "source": [
    "wind_db.std()"
   ]
  },
  {
   "cell_type": "code",
   "execution_count": null,
   "metadata": {
    "collapsed": false
   },
   "outputs": [],
   "source": [
    "# Especificamos que haga la operacion pero sobre la primera \n",
    "# dimension, en este caso los renglones\n",
    "wdmaxx = wind_db.max(axis=0)\n",
    "wdmaxx"
   ]
  },
  {
   "cell_type": "code",
   "execution_count": null,
   "metadata": {
    "collapsed": false
   },
   "outputs": [],
   "source": [
    "wdminn = wind_db.min(axis=0)"
   ]
  },
  {
   "cell_type": "code",
   "execution_count": null,
   "metadata": {
    "collapsed": false
   },
   "outputs": [],
   "source": [
    "wdmeann = wind_db.mean(axis=0)"
   ]
  },
  {
   "cell_type": "code",
   "execution_count": null,
   "metadata": {
    "collapsed": false
   },
   "outputs": [],
   "source": [
    "wdstd= wind_db.std(axis=0)"
   ]
  },
  {
   "cell_type": "code",
   "execution_count": null,
   "metadata": {
    "collapsed": false
   },
   "outputs": [],
   "source": [
    "# Graficamos los datos\n",
    "x = np.arange(1,13)\n",
    "\n",
    "plt.plot(x,wdmeann,'og', x,wdmaxx,'_r' , x,wdminn,'_b' , x,wdstd ,'+r')\n",
    "# Marcador og : circulo verde     ; _r Underscore red   ;  _b : Underscore blue\n",
    "\n",
    "plt.xlim([0,13])"
   ]
  },
  {
   "cell_type": "code",
   "execution_count": null,
   "metadata": {
    "collapsed": false
   },
   "outputs": [],
   "source": [
    "x = np.arange(1,13)\n",
    "\n",
    "plt.xticks(x,locations)\n",
    "\n",
    "plt.errorbar(x , wdmeann, yerr=[ wdmeann-wdminn, wdmaxx-wdmeann ] , \n",
    "             fmt='_r' , ecolor='gray' , markeredgewidth=2 , markersize=10 , label='mean (min,max)' )\n",
    "\n",
    "plt.plot(x,wdstd,'_g', label='stddev')\n",
    "\n",
    "plt.ylim([0,58])\n",
    "plt.xlim([0,13])\n",
    "\n",
    "plt.ylabel('knots')\n",
    "plt.legend(loc='lower left')"
   ]
  },
  {
   "cell_type": "code",
   "execution_count": null,
   "metadata": {
    "collapsed": false
   },
   "outputs": [],
   "source": [
    "# Las mismas operaciones, aplicando sobre la segunda dimension\n",
    "wdpminn = wind_db.min(axis=1)\n",
    "wdpminn.shape"
   ]
  },
  {
   "cell_type": "code",
   "execution_count": null,
   "metadata": {
    "collapsed": false
   },
   "outputs": [],
   "source": [
    "wind_db.mean(axis=1)"
   ]
  },
  {
   "cell_type": "code",
   "execution_count": null,
   "metadata": {
    "collapsed": false
   },
   "outputs": [],
   "source": [
    "# Los valores maximos, sobre columnas\n",
    "wind_db.max(axis=1)\n",
    "# Los indices, que contienen los valores maximos \n",
    "wind_db.argmax(axis=1)"
   ]
  },
  {
   "cell_type": "code",
   "execution_count": null,
   "metadata": {
    "collapsed": false
   },
   "outputs": [],
   "source": [
    "# Diarios maximos para cada dia (sobre renglones) todas las posiciones\n",
    "days_maxx = wind_db.max(axis=1)\n",
    "\n",
    "# Indice del dia con valor maximo \n",
    "max_roww = days_maxx.argmax()\n"
   ]
  },
  {
   "cell_type": "code",
   "execution_count": null,
   "metadata": {
    "collapsed": false
   },
   "outputs": [],
   "source": [
    "# Fecha del dia con valor maximo\n",
    "print (\"19%d - %02d - %02d\" %  \n",
    "       ( int(data_raw[max_roww, 0]) , int(data_raw[max_roww, 1]) , int(data_raw[max_roww, 2]) ) )\n",
    "print (\"Con valor maximo: %f\" % days_maxx.max())"
   ]
  },
  {
   "cell_type": "code",
   "execution_count": null,
   "metadata": {
    "collapsed": false
   },
   "outputs": [],
   "source": [
    "may_indicess = data_raw[:,1] == 5\n",
    "may_indicess.size"
   ]
  },
  {
   "cell_type": "code",
   "execution_count": null,
   "metadata": {
    "collapsed": false
   },
   "outputs": [],
   "source": [
    "may_datas = wind_data[may_indicess]\n",
    "may_datas.shape"
   ]
  },
  {
   "cell_type": "code",
   "execution_count": null,
   "metadata": {
    "collapsed": true
   },
   "outputs": [],
   "source": [
    "# Definir funcion para graficar una serie\n",
    "\n",
    "def plotstats(serie, title):\n",
    "    x = np.linspace(1,serie.shape[1],serie.shape[1])\n",
    "\n",
    "    plt.xticks(x,locations)\n",
    "    plt.errorbar(x , serie.mean(axis=0), \n",
    "                 yerr=[ serie.mean(axis=0)-serie.min(axis=0), serie.max(axis=0)-serie.mean(axis=0) ] , \n",
    "                 fmt='_r' , ecolor='gray' , markeredgewidth=2 , markersize=15 , label='mean (min,max)' )\n",
    "\n",
    "    plt.plot(x,serie.std(axis=0),'_g', label='stddev')\n",
    "\n",
    "    plt.ylim([0,58])\n",
    "    plt.xlim([0,13])\n",
    "\n",
    "    plt.title(title)\n",
    "    plt.ylabel('knots')\n",
    "    plt.legend(loc='upper right')    "
   ]
  },
  {
   "cell_type": "code",
   "execution_count": null,
   "metadata": {
    "collapsed": false
   },
   "outputs": [],
   "source": [
    "plotstats(may_datas, 'Estadisticas Mayo')"
   ]
  },
  {
   "cell_type": "code",
   "execution_count": null,
   "metadata": {
    "collapsed": false
   },
   "outputs": [],
   "source": [
    "month_groups = {'min' : np.zeros(12) , 'max' : np.zeros(12) , \n",
    "               'mean' : np.zeros(12), 'std' : np.zeros(12) } \n",
    "\n",
    "for m in range(12): \n",
    "    wind_data_bymonth = wind_data[data_raw[:,1] == (m+1)]\n",
    "    month_groups['min'][m] = wind_data_bymonth.min() \n",
    "    month_groups['max'][m] = wind_data_bymonth.max() \n",
    "    month_groups['mean'][m] = wind_data_bymonth.mean() \n",
    "    month_groups['std'][m] = wind_data_bymonth.std()     \n"
   ]
  },
  {
   "cell_type": "code",
   "execution_count": null,
   "metadata": {
    "collapsed": false
   },
   "outputs": [],
   "source": [
    "import datetime as dt\n",
    "xticksmonths = [ dt.datetime(1900,m+1,1).strftime('%b') for m in range(12)]\n",
    "\n",
    "xticksmonths"
   ]
  },
  {
   "cell_type": "code",
   "execution_count": null,
   "metadata": {
    "collapsed": false
   },
   "outputs": [],
   "source": [
    "x = np.arange(12)\n",
    "\n",
    "plt.plot(x, month_groups['mean'] , '-g', label='mean' , )    \n",
    "plt.fill_between(x , month_groups['min'] , month_groups['max'], color='gray', alpha=0.3, edgecolor='red') \n",
    "\n",
    "plt.plot(x, month_groups['std'], '-k' ,label='std')  \n",
    "\n",
    "\n",
    "\n",
    "plt.xticks(x,xticksmonths)\n",
    "plt.ylabel('knots')\n",
    "plt.legend()\n",
    "plt.xlim([0,11])\n",
    "plt.ylim([0,55])\n",
    "\n",
    "\n",
    "\n",
    "\n",
    "\n",
    "# Anotacion\n",
    "plt.annotate('vientos min' , xy=(month_groups['max'].argmin(),month_groups['max'].min()) , \n",
    "             arrowprops= dict(arrowstyle='simple') ,\n",
    "             xytext=(-15, 25), textcoords='offset points',)\n",
    "\n",
    "\n",
    "\n",
    "\n",
    "plt.title('Estadisticas por mes')"
   ]
  },
  {
   "cell_type": "code",
   "execution_count": null,
   "metadata": {
    "collapsed": false
   },
   "outputs": [],
   "source": [
    "\n",
    "yd1 = np.arange(1,366)\n",
    "colyeardays1 = np.tile(yd1, int(np.ceil(len(data_raw)/365)))[0:len(data_raw)]\n",
    "colyeardays1.shape"
   ]
  },
  {
   "cell_type": "code",
   "execution_count": null,
   "metadata": {
    "collapsed": false
   },
   "outputs": [],
   "source": [
    "dailywdt_mean = np.empty(365)\n",
    "dailywdt_max = np.empty(365)\n",
    "dailywdt_min = np.empty(365)\n",
    "dailywdt_std = np.empty(365)\n",
    "\n",
    "for d in range(1,366):\n",
    "    dailywdt_mean[d-1] = wind_data[np.where(colyeardays1==d)].mean()\n",
    "    dailywdt_max[d-1] = wind_data[np.where(colyeardays1==d)].max()\n",
    "    dailywdt_min[d-1] = wind_data[np.where(colyeardays1==d)].min()\n",
    "    dailywdt_std[d-1] = wind_data[np.where(colyeardays1==d)].std()\n"
   ]
  },
  {
   "cell_type": "code",
   "execution_count": null,
   "metadata": {
    "collapsed": false
   },
   "outputs": [],
   "source": [
    "myfig = plt.figure(figsize=(15,6))    \n",
    "x = np.arange(365)\n",
    "\n",
    "plt.plot(x,dailywdt_mean,'-g',label='yearday mean', lw=2)\n",
    "plt.plot(x,dailywdt_min, '-b')\n",
    "plt.plot(x,dailywdt_max, '-r')\n",
    "plt.plot(x,dailywdt_std, '-k',label='desv.std.')\n",
    "\n",
    "plt.fill_between(x, dailywdt_min, dailywdt_max, color='gray', alpha=0.2)\n",
    "\n",
    "plt.xlim([0,365])\n",
    "plt.legend()\n",
    "plt.title(\"Estadistica para cada dia del año\")\n"
   ]
  },
  {
   "cell_type": "code",
   "execution_count": null,
   "metadata": {
    "collapsed": false
   },
   "outputs": [],
   "source": [
    "\n",
    "plt.figure(figsize=(15,6)) \n",
    "\n",
    "plys = np.polyfit(np.arange(365),dailywdt_mean,8)\n",
    "mfit = np.poly1d(plys)\n",
    "\n",
    "\n",
    "plt.plot(np.arange(365),mfit(np.arange(365)), label='Curva de ajuste')\n",
    "\n",
    "plt.plot(dailywdt_mean,'.g',label='yearday mean')\n",
    "\n",
    "# Anotaciones\n",
    "plt.annotate('media mas baja' , xy=(dailywdt_mean.argmin(),dailywdt_mean.min()) , \n",
    "             arrowprops= dict(arrowstyle='simple') ,\n",
    "             xytext=(-15, -25), textcoords='offset points',)\n",
    "\n",
    "plt.annotate('media mas alta' , xy=(dailywdt_mean.argmax(),dailywdt_mean.max()) , \n",
    "             arrowprops= dict(arrowstyle='simple') ,\n",
    "             xytext=(-15, 25), textcoords='offset points',)\n",
    "\n",
    "plt.xlim([0,365])\n",
    "plt.ylim([0,16])"
   ]
  }
 ],
 "metadata": {
  "anaconda-cloud": {},
  "kernelspec": {
   "display_name": "base",
   "language": "python",
   "name": "python3"
  },
  "language_info": {
   "codemirror_mode": {
    "name": "ipython",
    "version": 3
   },
   "file_extension": ".py",
   "mimetype": "text/x-python",
   "name": "python",
   "nbconvert_exporter": "python",
   "pygments_lexer": "ipython3",
   "version": "3.9.13"
  },
  "vscode": {
   "interpreter": {
    "hash": "461ed354ce429dd545b7a054f76b7c87599c3dae939674d6c0f4dd8640ad74a4"
   }
  }
 },
 "nbformat": 4,
 "nbformat_minor": 0
}
